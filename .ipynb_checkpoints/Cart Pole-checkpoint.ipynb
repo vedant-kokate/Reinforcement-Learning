{
 "cells": [
  {
   "cell_type": "code",
   "execution_count": 5,
   "id": "dfc69789",
   "metadata": {},
   "outputs": [],
   "source": [
    "import gym \n",
    "from stable_baselines3 import PPO\n",
    "from stable_baselines3.common.vec_env import DummyVecEnv\n",
    "from stable_baselines3.common.evaluation import evaluate_policy\n",
    "\n"
   ]
  },
  {
   "cell_type": "code",
   "execution_count": 6,
   "id": "45cfc744",
   "metadata": {},
   "outputs": [],
   "source": [
    "environment_name = \"CartPole-v0\"\n",
    "env = gym.make(environment_name)\n",
    "\n"
   ]
  },
  {
   "cell_type": "code",
   "execution_count": 9,
   "id": "d85e08cd",
   "metadata": {},
   "outputs": [
    {
     "name": "stdout",
     "output_type": "stream",
     "text": [
      "Episode:1 Score;16.0\n",
      "Episode:2 Score;24.0\n",
      "Episode:3 Score;12.0\n",
      "Episode:4 Score;22.0\n",
      "Episode:5 Score;16.0\n",
      "Episode:6 Score;21.0\n",
      "Episode:7 Score;17.0\n",
      "Episode:8 Score;23.0\n",
      "Episode:9 Score;27.0\n",
      "Episode:10 Score;27.0\n",
      "Episode:11 Score;16.0\n",
      "Episode:12 Score;21.0\n",
      "Episode:13 Score;39.0\n",
      "Episode:14 Score;18.0\n",
      "Episode:15 Score;15.0\n",
      "Episode:16 Score;23.0\n",
      "Episode:17 Score;13.0\n",
      "Episode:18 Score;25.0\n",
      "Episode:19 Score;16.0\n",
      "Episode:20 Score;19.0\n",
      "Episode:21 Score;15.0\n",
      "Episode:22 Score;11.0\n",
      "Episode:23 Score;11.0\n",
      "Episode:24 Score;25.0\n",
      "Episode:25 Score;52.0\n",
      "Episode:26 Score;18.0\n",
      "Episode:27 Score;24.0\n",
      "Episode:28 Score;13.0\n",
      "Episode:29 Score;33.0\n",
      "Episode:30 Score;14.0\n",
      "Episode:31 Score;28.0\n",
      "Episode:32 Score;12.0\n",
      "Episode:33 Score;15.0\n",
      "Episode:34 Score;29.0\n",
      "Episode:35 Score;15.0\n",
      "Episode:36 Score;42.0\n",
      "Episode:37 Score;13.0\n",
      "Episode:38 Score;17.0\n",
      "Episode:39 Score;22.0\n",
      "Episode:40 Score;28.0\n",
      "Episode:41 Score;21.0\n",
      "Episode:42 Score;11.0\n",
      "Episode:43 Score;21.0\n",
      "Episode:44 Score;12.0\n",
      "Episode:45 Score;27.0\n",
      "Episode:46 Score;29.0\n",
      "Episode:47 Score;26.0\n",
      "Episode:48 Score;10.0\n",
      "Episode:49 Score;26.0\n",
      "Episode:50 Score;17.0\n"
     ]
    }
   ],
   "source": [
    "episodes = 50\n",
    "for episode in range(1,episodes+1):\n",
    "    state=env.reset()\n",
    "    done=False\n",
    "    score = 0\n",
    "    \n",
    "    while not done:\n",
    "        env.render()\n",
    "        action=env.action_space.sample()\n",
    "        n_state,reward,done,info = env.step(action)\n",
    "        score+=reward\n",
    "    print('Episode:{} Score;{}'.format(episode,score))\n",
    "env.close()"
   ]
  },
  {
   "cell_type": "code",
   "execution_count": 10,
   "id": "d22b89bf",
   "metadata": {},
   "outputs": [],
   "source": [
    "env.close()"
   ]
  },
  {
   "cell_type": "code",
   "execution_count": 1,
   "id": "80ebf8cd",
   "metadata": {},
   "outputs": [
    {
     "ename": "NameError",
     "evalue": "name 'os' is not defined",
     "output_type": "error",
     "traceback": [
      "\u001b[0;31m---------------------------------------------------------------------------\u001b[0m",
      "\u001b[0;31mNameError\u001b[0m                                 Traceback (most recent call last)",
      "\u001b[0;32m<ipython-input-1-352e23a88622>\u001b[0m in \u001b[0;36m<module>\u001b[0;34m\u001b[0m\n\u001b[0;32m----> 1\u001b[0;31m \u001b[0mlog_path\u001b[0m \u001b[0;34m=\u001b[0m \u001b[0mos\u001b[0m\u001b[0;34m.\u001b[0m\u001b[0mpath\u001b[0m\u001b[0;34m.\u001b[0m\u001b[0mjoin\u001b[0m\u001b[0;34m(\u001b[0m\u001b[0;34m'Training'\u001b[0m\u001b[0;34m,\u001b[0m \u001b[0;34m'logs'\u001b[0m\u001b[0;34m)\u001b[0m\u001b[0;34m\u001b[0m\u001b[0;34m\u001b[0m\u001b[0m\n\u001b[0m",
      "\u001b[0;31mNameError\u001b[0m: name 'os' is not defined"
     ]
    }
   ],
   "source": [
    "log_path = os.path.join('Training', 'logs')"
   ]
  },
  {
   "cell_type": "code",
   "execution_count": 12,
   "id": "e14daf6e",
   "metadata": {},
   "outputs": [
    {
     "data": {
      "text/plain": [
       "0"
      ]
     },
     "execution_count": 12,
     "metadata": {},
     "output_type": "execute_result"
    }
   ],
   "source": []
  },
  {
   "cell_type": "code",
   "execution_count": 13,
   "id": "f60fbab0",
   "metadata": {},
   "outputs": [
    {
     "data": {
      "text/plain": [
       "'GeForce GTX 1050 Ti'"
      ]
     },
     "execution_count": 13,
     "metadata": {},
     "output_type": "execute_result"
    }
   ],
   "source": []
  },
  {
   "cell_type": "code",
   "execution_count": null,
   "id": "2219edde",
   "metadata": {},
   "outputs": [],
   "source": []
  }
 ],
 "metadata": {
  "kernelspec": {
   "display_name": "Python [conda env:tensorflow] *",
   "language": "python",
   "name": "conda-env-tensorflow-py"
  },
  "language_info": {
   "codemirror_mode": {
    "name": "ipython",
    "version": 3
   },
   "file_extension": ".py",
   "mimetype": "text/x-python",
   "name": "python",
   "nbconvert_exporter": "python",
   "pygments_lexer": "ipython3",
   "version": "3.7.10"
  }
 },
 "nbformat": 4,
 "nbformat_minor": 5
}
